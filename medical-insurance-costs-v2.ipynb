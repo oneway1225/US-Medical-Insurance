{
 "cells": [
  {
   "cell_type": "markdown",
   "metadata": {},
   "source": [
    "# U.S. Medical Insurance Costs"
   ]
  },
  {
   "cell_type": "markdown",
   "metadata": {},
   "source": [
    "# Opening the Data"
   ]
  },
  {
   "cell_type": "code",
   "execution_count": 1,
   "metadata": {},
   "outputs": [],
   "source": [
    "import csv\n",
    "#This code was written without importing Numpy to test out different custom functions.\n",
    "\n",
    "#Prepare empty data lists\n",
    "whole_dataset = []\n",
    "age = []\n",
    "sex = []\n",
    "bmi = []\n",
    "num_children = []\n",
    "smoker = []\n",
    "region = []\n",
    "charges = []\n",
    "\n",
    "with open('insurance.csv', newline = '') as insurance_csv:\n",
    "    data_reader = csv.DictReader(insurance_csv)\n",
    "    for row in data_reader:\n",
    "        whole_dataset.append(row)\n",
    "        age.append(float(row[\"age\"])) #Change string numbers to floating numbers\n",
    "        sex.append(row[\"sex\"])\n",
    "        bmi.append(float(row[\"bmi\"])) #Change string numbers to floating numbers\n",
    "        num_children.append(float(row[\"children\"])) #Change string numbers to floating numbers\n",
    "        smoker.append(row[\"smoker\"])\n",
    "        region.append(row[\"region\"])\n",
    "        charges.append(float(row[\"charges\"])) #Change string numbers to floating numbers\n"
   ]
  },
  {
   "cell_type": "markdown",
   "metadata": {},
   "source": [
    "Each row in the whole_dataset is organised as an individual dictionary.\n",
    "The keys are: \"age\", \"sex\", \"bmi\", \"children\", \"smoker\", \"region\", \"charges\".\n",
    "The keys are also stored as separate lists for easier data analysis.\n",
    "\n",
    "The key questions are:\n",
    "- Find out the average age, BMI, and number of children of the patients in the dataset.\n",
    "- Analyze where a majority of the individuals are from.\n",
    "- Look at the different costs between smokers vs. non-smokers.\n",
    "- Figure out what the average age is for someone who has at least one child in this dataset.\n",
    "- Does BMI increase/decrease with age, and the number of children?\n"
   ]
  },
  {
   "cell_type": "markdown",
   "metadata": {},
   "source": [
    "# Classes and Functions"
   ]
  },
  {
   "cell_type": "markdown",
   "metadata": {},
   "source": [
    "## Class for Dividing into Groups"
   ]
  },
  {
   "cell_type": "code",
   "execution_count": 2,
   "metadata": {},
   "outputs": [],
   "source": [
    "class Groups:\n",
    "    def __init__(self, data):\n",
    "        self.data = data   \n",
    "    \n",
    "    def divide_age_group(self): #Divide the data into each age group\n",
    "        age_category = {\"18-19\": [], \"20-29\": [], \"30-39\": [], \"40-49\": [], \"50-59\": [], \"60+\": []}\n",
    "        for item in self.data:\n",
    "            age = float(item[\"age\"])\n",
    "            if age >=18 and age < 20: age_category[\"18-19\"].append(item)\n",
    "            elif age >= 20 and age < 30: age_category[\"20-29\"].append(item)\n",
    "            elif age >= 30 and age < 40: age_category[\"30-39\"].append(item)\n",
    "            elif age >= 40 and age < 50: age_category[\"40-49\"].append(item)\n",
    "            elif age >= 50 and age < 60: age_category[\"50-59\"].append(item)\n",
    "            else: age_category[\"60+\"].append(item)\n",
    "        return age_category\n",
    "    \n",
    "    def divide_sex_group(self): #Divide the data into each sex group\n",
    "        sex_category = {\"Male\": [], \"Female\": []}\n",
    "        for item in self.data:\n",
    "            sex = item[\"sex\"]\n",
    "            if sex == \"male\": sex_category[\"Male\"].append(item)\n",
    "            else: sex_category[\"Female\"].append(item)\n",
    "        return sex_category\n",
    "    \n",
    "    def divide_bmi_group(self): #Divide the data into each BMI group\n",
    "        bmi_groups = {\"Underweight\": 18.5, \"Healthy\": 24.9, \"Overweight\": 29.9, \"Obese\": 30}\n",
    "        bmi_category = {\"Underweight\": [], \"Healthy\": [], \"Overweight\": [], \"Obese\": []}\n",
    "        for item in self.data:\n",
    "            bmi = float(item[\"bmi\"])\n",
    "            if bmi < bmi_groups[\"Underweight\"]: bmi_category[\"Underweight\"].append(item)\n",
    "            elif bmi >= bmi_groups[\"Underweight\"] and bmi < bmi_groups[\"Healthy\"]: bmi_category[\"Healthy\"].append(item)\n",
    "            elif bmi >= bmi_groups[\"Healthy\"] and bmi < bmi_groups[\"Obese\"]: bmi_category[\"Overweight\"].append(item)\n",
    "            else: bmi_category[\"Obese\"].append(item)\n",
    "        return bmi_category\n",
    "\n",
    "    def divide_children_group(self): #Divide the data into each number of children group\n",
    "        children_category = {\"0\": [], \"1\": [], \"2\": [], \"3\": [], \"4+\": []}\n",
    "        for item in self.data:\n",
    "            children = item[\"children\"]\n",
    "            if children == \"0\": children_category[\"0\"].append(item)\n",
    "            elif children == \"1\": children_category[\"1\"].append(item)\n",
    "            elif children == \"2\": children_category[\"2\"].append(item)                               \n",
    "            elif children == \"3\": children_category[\"3\"].append(item)                               \n",
    "            else: children_category[\"4+\"].append(item)                               \n",
    "        return children_category\n",
    "\n",
    "    def divide_smoker_group(self): #Divide the data into each smoker group\n",
    "        smoker_category = {\"Smoker\": [], \"Non-Smoker\": []}\n",
    "        for item in self.data:\n",
    "            smoker = item[\"smoker\"]\n",
    "            if smoker == \"yes\": smoker_category[\"Smoker\"].append(item)                              \n",
    "            else: smoker_category[\"Non-Smoker\"].append(item)                               \n",
    "        return smoker_category\n",
    "                                           \n",
    "    def divide_region_group(self): #Divide the data into each region\n",
    "        region_category = {\"NorthEast\": [], \"NorthWest\": [], \"SouthEast\": [], \"SouthWest\": []}\n",
    "        for item in self.data:\n",
    "            region = item[\"region\"]\n",
    "            if region == \"northeast\": region_category[\"NorthEast\"].append(item)\n",
    "            elif region == \"northwest\": region_category[\"NorthWest\"].append(item)\n",
    "            elif region == \"southeast\": region_category[\"SouthEast\"].append(item)                                                             \n",
    "            else: region_category[\"SouthWest\"].append(item)                               \n",
    "        return region_category\n",
    "    \n",
    "    def numbered_data(self): #rearrange the data to have numbers as key\n",
    "        data_num = {}\n",
    "        count = 1\n",
    "        for item in self.data:\n",
    "            data_num[count] = item\n",
    "            count += 1\n",
    "        return data_num\n",
    "    \n",
    "groups = Groups(whole_dataset)\n",
    "                          "
   ]
  },
  {
   "cell_type": "markdown",
   "metadata": {},
   "source": [
    "## Class for Calculating Average Values and Comparing Two Groups"
   ]
  },
  {
   "cell_type": "code",
   "execution_count": 3,
   "metadata": {},
   "outputs": [],
   "source": [
    "class Average_Values:\n",
    "    def __init__(self, groups):\n",
    "        self.groups = groups\n",
    "        self.age = groups.divide_age_group()\n",
    "        self.sex = groups.divide_sex_group()\n",
    "        self.bmi = groups.divide_bmi_group()\n",
    "        self.num_children = groups.divide_children_group()\n",
    "        self.smoker = groups.divide_smoker_group() \n",
    "        self.region = groups.divide_region_group()\n",
    "        self.num_data = groups.numbered_data()\n",
    "        self.group_list = [self.age, self.sex, self.bmi, self.num_children, self.smoker, self.region, self.num_data]\n",
    "\n",
    "    def calc_average_group(self, group): \n",
    "        group_sum = 0\n",
    "        for value in self.num_data.values():\n",
    "            if group == \"Number of Children\": \n",
    "                group1 = group.replace(\"Number of Children\", \"children\")\n",
    "            elif group == \"Insurance Cost\": group1 = group.replace(\"Insurance Cost\", \"charges\")\n",
    "            else: group1 = group.lower()\n",
    "            group_sum += float(value[group1])\n",
    "        average_value = round(group_sum / len(self.num_data) , 2)\n",
    "        if group == \"children\": group = group.replace(\"children\", \"Number of Children\")\n",
    "        elif group == \"bmi\": group = group.replace(\"bmi\", \"BMI\")\n",
    "        elif group == \"charges\": group = group.replace(\"charges\", \"Insurance Cost\")\n",
    "        text = \"The average {group_name} in the dataset is {average_value}.\".format(group_name = group.title(), average_value = average_value)\n",
    "        return text\n",
    "    \n",
    "    def calc_average_charges(self, group):\n",
    "        group1_charges = 0\n",
    "        for group in self.group_list:\n",
    "            if group1 in group.keys():\n",
    "                value = group.get(group1)\n",
    "                for index in range(0, len(value)):\n",
    "                    group1_charges += float(value[index]['charges'])\n",
    "                group1_average_charges = round(group1_charges / len(value) , 2)\n",
    "        text = \"The average insurance cost for {group_name} ${average_value}.\".format(group_name = group, average_value = average_value)\n",
    "        return text\n",
    "     \n",
    "    def calc_difference(self, group1, group2):\n",
    "        group1_charges = 0\n",
    "        group2_charges = 0\n",
    "        for group in self.group_list:\n",
    "            if group1 in group.keys():\n",
    "                value = group.get(group1)\n",
    "                for index in range(0, len(value)):\n",
    "                    group1_charges += float(value[index]['charges'])\n",
    "                group1_average_charges = round(group1_charges / len(value) , 2)\n",
    "            if group2 in group.keys():\n",
    "                value = group.get(group2)\n",
    "                for index in range(0, len(value)):\n",
    "                    group2_charges += float(value[index]['charges'])\n",
    "                group2_average_charges = round(group2_charges / len(value) , 2)\n",
    "        if group1_average_charges > group2_average_charges: \n",
    "            difference = group1_average_charges - group2_average_charges\n",
    "            text = \"The average insurance cost for {group1_name} is more expensive than {group2_name} by ${difference}.\".format(group1_name = group1, group2_name = group2, difference = difference)\n",
    "        elif group2_average_charges > group1_average_charges: \n",
    "            difference = group2_average_charges - group1_average_charges\n",
    "            text = \"The average insurance cost for {group2_name} is more expensive than {group1_name} by ${difference}.\".format(group1_name = group1, group2_name = group2, difference = difference)\n",
    "        else: text = \"The average insurance cost for {group1_name} and {group1_name} are the same.\".format(group1_name = group1, group2_name = group2)\n",
    "        return text\n",
    " \n"
   ]
  },
  {
   "cell_type": "markdown",
   "metadata": {},
   "source": [
    "## Class for Sample Distribution of Each Group"
   ]
  },
  {
   "cell_type": "code",
   "execution_count": 4,
   "metadata": {},
   "outputs": [],
   "source": [
    "class Distribution:\n",
    "    def __init__(self, groups):\n",
    "        self.groups = groups\n",
    "        self.age = groups.divide_age_group()\n",
    "        self.sex = groups.divide_sex_group()\n",
    "        self.bmi = groups.divide_bmi_group()\n",
    "        self.num_children = groups.divide_children_group()\n",
    "        self.smoker = groups.divide_smoker_group() \n",
    "        self.region = groups.divide_region_group()\n",
    "        self.group_list = [self.age, self.sex, self.bmi, self.num_children, self.smoker, self.region]\n",
    "      \n",
    "    def count_group(self):\n",
    "        age_group_count = {}\n",
    "        sex_group_count = {}\n",
    "        bmi_group_count = {}\n",
    "        num_children_group_count = {}\n",
    "        smoker_group_count = {}\n",
    "        region_group_count = {}\n",
    "        for group in self.group_list:\n",
    "            for item in group.items():\n",
    "                if group == self.age: age_group_count[item[0]] = len(item[1])\n",
    "                elif group == self.sex: sex_group_count[item[0]] = len(item[1])\n",
    "                elif group == self.bmi: bmi_group_count[item[0]] = len(item[1])\n",
    "                elif group == self.num_children: num_children_group_count[item[0]] = len(item[1])\n",
    "                elif group == self.smoker: smoker_group_count[item[0]] = len(item[1])\n",
    "                elif group == self.region: region_group_count[item[0]] = len(item[1])\n",
    "        self.group_count = {\"Age\": age_group_count, \n",
    "                       \"Sex\": sex_group_count, \n",
    "                       \"BMI\": bmi_group_count, \n",
    "                       \"Number of Children\": num_children_group_count,\n",
    "                       \"Smoker\": smoker_group_count,\n",
    "                       \"Region\": region_group_count}\n",
    "        for item in self.group_count.items():\n",
    "            print(\"The {group_name} group, in numbers, is distributed as follows: {group_value}\".format(group_name = item[0], group_value = item[1]))\n",
    "        return \"\"\"\n",
    "        \"\"\"\n",
    "\n",
    "    def calc_percentage(self, group):\n",
    "        group_percentage = {}\n",
    "        group_count = self.group_count[group]\n",
    "        num_total_data = sum(group_count.values())\n",
    "        for item in group_count.items(): \n",
    "            group_percentage[item[0]] = round((item[1] / num_total_data) * 100, 2)  \n",
    "        for item in group_percentage.items():\n",
    "            print(\"The {group_name} group is {group_value}% of the total sample population.\".format(group_name = item[0], group_value = item[1]))\n",
    "        max_value = max(group_percentage.values())\n",
    "        max_group = list(group_percentage.keys())[list(group_percentage.values()).index(max_value)]\n",
    "        return \"\"\"The majority group in the sample is: {}\n",
    "        \"\"\".format(max_group)\n",
    "\n",
    "    "
   ]
  },
  {
   "cell_type": "markdown",
   "metadata": {},
   "source": [
    "## Algorithm for Calculating the Average Age of Individuals with At Least One Child."
   ]
  },
  {
   "cell_type": "code",
   "execution_count": 5,
   "metadata": {},
   "outputs": [],
   "source": [
    "def avg_value_group(category, subgroup, test_value): #Can modify this function to take in Smoker and Regions groups as inputs\n",
    "    average = Average_Values(groups)\n",
    "    data_list = list(average.num_data.values())\n",
    "    subgroup_sum = 0\n",
    "    count = 0\n",
    "    if subgroup == \"Number of Children\": subgroup = subgroup.replace(\"Number of Children\", \"children\")\n",
    "    elif subgroup == \"Insurance Cost\": subgroup = subgroup.replace(\"Insurance Cost\", \"charges\")\n",
    "    else: subgroup = subgroup.lower()\n",
    "    if category == \"Number of Children\": category = category.replace(\"Number of Children\", \"children\")\n",
    "    elif category == \"Insurance Cost\": category = category.replace(\"Insurance Cost\", \"charges\")\n",
    "    else: category = category.lower()\n",
    "    for index in range(0, len(data_list)):\n",
    "        if type(data_list[index][subgroup]) == str: value = float(data_list[index][subgroup])\n",
    "        if value >= test_value:\n",
    "            subgroup_sum += float(data_list[index][category])\n",
    "            count += 1\n",
    "    average_value = round(subgroup_sum / count, 2)\n",
    "    if subgroup == \"children\": subgroup = subgroup.replace(\"children\", \"Number of Children\")\n",
    "    elif subgroup == \"bmi\": subgroup = subgroup.replace(\"bmi\", \"BMI\")\n",
    "    elif subgroup == \"charges\": subgroup = subgroup.replace(\"charges\", \"Insurance Cost\")\n",
    "    if category == \"children\": category = category.replace(\"children\", \"Number of Children\")\n",
    "    elif category == \"bmi\": category = category.replace(\"bmi\", \"BMI\")\n",
    "    elif category == \"charges\": category = category.replace(\"charges\", \"Insurance Cost\")\n",
    "    text = \"The average {group_name} for those with {subgroup} greater than or equal to {test_value} is {average_value}.\".format(\n",
    "        group_name = category.title(), \n",
    "        subgroup = subgroup.title(),\n",
    "        test_value = test_value,\n",
    "        average_value = average_value)\n",
    "    return text\n"
   ]
  },
  {
   "cell_type": "markdown",
   "metadata": {},
   "source": [
    "## Algorithm for Visualising the Relationship between BMI and Age, and between BMI and the Number of Children."
   ]
  },
  {
   "cell_type": "code",
   "execution_count": 6,
   "metadata": {},
   "outputs": [
    {
     "name": "stdout",
     "output_type": "stream",
     "text": [
      "{'Underweight': 1.05, 'Healthy': 1.11, 'Overweight': 1.08, 'Obese': 1.09}\n"
     ]
    },
    {
     "data": {
      "text/plain": [
       "[<matplotlib.lines.Line2D at 0x7ff55ad4e0a0>]"
      ]
     },
     "execution_count": 6,
     "metadata": {},
     "output_type": "execute_result"
    },
    {
     "data": {
      "image/png": "[encoded data removed]",
      "text/plain": [
       "<Figure size 432x288 with 1 Axes>"
      ]
     },
     "metadata": {
      "needs_background": "light"
     },
     "output_type": "display_data"
    },
    {
     "data": {
      "image/png": "[encoded data removed]",
      "text/plain": [
       "<Figure size 432x288 with 1 Axes>"
      ]
     },
     "metadata": {
      "needs_background": "light"
     },
     "output_type": "display_data"
    }
   ],
   "source": [
    "import matplotlib.pyplot as plt\n",
    "\n",
    "group_data = groups.numbered_data()\n",
    "bmi_group = groups.divide_bmi_group()\n",
    "age_group = groups.divide_age_group()\n",
    "children_group = groups.divide_children_group()\n",
    "\n",
    "temp_data1 = {}\n",
    "temp_data2 = []\n",
    "\n",
    "for item in bmi_group.items():\n",
    "    for value in item[1]:\n",
    "        temp_data2.append(float(value[\"age\"]))\n",
    "    average_subgroup = round(sum(temp_data2) / len(temp_data2), 2)\n",
    "    temp_data1[item[0]] = average_subgroup\n",
    "\n",
    "plt.figure(1)\n",
    "plt.plot(temp_data1.keys(), temp_data1.values())\n",
    "\n",
    "temp_data3 = {}\n",
    "temp_data4 = []\n",
    "for item2 in bmi_group.items():\n",
    "    for value2 in item2[1]:\n",
    "        temp_data4.append(float(value2[\"children\"]))\n",
    "    average_subgroup1 = round(sum(temp_data4) / len(temp_data4), 2)\n",
    "    temp_data3[item2[0]] = average_subgroup1\n",
    "\n",
    "print(temp_data3)\n",
    "plt.figure(2)\n",
    "plt.ylim([0,1.5])\n",
    "plt.plot(temp_data3.keys(), temp_data3.values())"
   ]
  },
  {
   "cell_type": "markdown",
   "metadata": {},
   "source": [
    "# Analysis"
   ]
  },
  {
   "cell_type": "markdown",
   "metadata": {},
   "source": [
    "## Average Age, BMI, Number of Children and Insurance Costs"
   ]
  },
  {
   "cell_type": "code",
   "execution_count": 7,
   "metadata": {},
   "outputs": [
    {
     "name": "stdout",
     "output_type": "stream",
     "text": [
      "The average Age in the dataset is 39.21.\n",
      "The average Bmi in the dataset is 30.66.\n",
      "The average Number Of Children in the dataset is 1.09.\n",
      "The average Insurance Cost in the dataset is 13270.42.\n",
      "The average insurance cost for Smoker is more expensive than Non-Smoker by $23615.96.\n"
     ]
    }
   ],
   "source": [
    "average = Average_Values(groups)\n",
    "print(average.calc_average_group(\"Age\"))\n",
    "print(average.calc_average_group(\"BMI\"))\n",
    "print(average.calc_average_group(\"Number of Children\"))\n",
    "print(average.calc_average_group(\"Insurance Cost\"))  \n",
    "\n",
    "average = Average_Values(groups)\n",
    "print(average.calc_difference(\"Smoker\", \"Non-Smoker\")) "
   ]
  },
  {
   "cell_type": "markdown",
   "metadata": {},
   "source": [
    "- Find out the average age, BMI, and number of children of the patients in the dataset.\n",
    "\n",
    "The average: \n",
    "    Age: 39.2 years old.\n",
    "    BMI: 30.7\n",
    "    Number of Children: 1.1\n",
    "    Insurance Cost: $13270"
   ]
  },
  {
   "cell_type": "markdown",
   "metadata": {},
   "source": [
    "## Cost Difference Between Smokers and Non-Smokers"
   ]
  },
  {
   "cell_type": "markdown",
   "metadata": {},
   "source": [
    "Smokers pay $23616 more than Non-Smokers."
   ]
  },
  {
   "cell_type": "markdown",
   "metadata": {},
   "source": [
    "## Sample Distribution of Each Group"
   ]
  },
  {
   "cell_type": "markdown",
   "metadata": {},
   "source": [
    "Note: calc_percentage function requires additional input in the form of group name (\"Age\", \"Sex\", \"BMI\", \"Number of Children\", \"Smoker\", \"Region\")"
   ]
  },
  {
   "cell_type": "code",
   "execution_count": 8,
   "metadata": {},
   "outputs": [
    {
     "name": "stdout",
     "output_type": "stream",
     "text": [
      "The Age group, in numbers, is distributed as follows: {'18-19': 137, '20-29': 280, '30-39': 257, '40-49': 279, '50-59': 271, '60+': 114}\n",
      "The Sex group, in numbers, is distributed as follows: {'Male': 676, 'Female': 662}\n",
      "The BMI group, in numbers, is distributed as follows: {'Underweight': 20, 'Healthy': 222, 'Overweight': 389, 'Obese': 707}\n",
      "The Number of Children group, in numbers, is distributed as follows: {'0': 574, '1': 324, '2': 240, '3': 157, '4+': 43}\n",
      "The Smoker group, in numbers, is distributed as follows: {'Smoker': 274, 'Non-Smoker': 1064}\n",
      "The Region group, in numbers, is distributed as follows: {'NorthEast': 324, 'NorthWest': 325, 'SouthEast': 364, 'SouthWest': 325}\n",
      "\n",
      "        \n",
      "The 18-19 group is 10.24% of the total sample population.\n",
      "The 20-29 group is 20.93% of the total sample population.\n",
      "The 30-39 group is 19.21% of the total sample population.\n",
      "The 40-49 group is 20.85% of the total sample population.\n",
      "The 50-59 group is 20.25% of the total sample population.\n",
      "The 60+ group is 8.52% of the total sample population.\n",
      "The majority group in the sample is: 20-29\n",
      "        \n",
      "The Male group is 50.52% of the total sample population.\n",
      "The Female group is 49.48% of the total sample population.\n",
      "The majority group in the sample is: Male\n",
      "        \n",
      "The Underweight group is 1.49% of the total sample population.\n",
      "The Healthy group is 16.59% of the total sample population.\n",
      "The Overweight group is 29.07% of the total sample population.\n",
      "The Obese group is 52.84% of the total sample population.\n",
      "The majority group in the sample is: Obese\n",
      "        \n",
      "The 0 group is 42.9% of the total sample population.\n",
      "The 1 group is 24.22% of the total sample population.\n",
      "The 2 group is 17.94% of the total sample population.\n",
      "The 3 group is 11.73% of the total sample population.\n",
      "The 4+ group is 3.21% of the total sample population.\n",
      "The majority group in the sample is: 0\n",
      "        \n",
      "The Smoker group is 20.48% of the total sample population.\n",
      "The Non-Smoker group is 79.52% of the total sample population.\n",
      "The majority group in the sample is: Non-Smoker\n",
      "        \n",
      "The NorthEast group is 24.22% of the total sample population.\n",
      "The NorthWest group is 24.29% of the total sample population.\n",
      "The SouthEast group is 27.2% of the total sample population.\n",
      "The SouthWest group is 24.29% of the total sample population.\n",
      "The majority group in the sample is: SouthEast\n",
      "        \n"
     ]
    }
   ],
   "source": [
    "group_distribution = Distribution(groups)\n",
    "distributions = group_distribution.count_group()\n",
    "print(distributions) \n",
    "percentage = group_distribution.calc_percentage(\"Age\")\n",
    "print(percentage)\n",
    "percentage = group_distribution.calc_percentage(\"Sex\")\n",
    "print(percentage)\n",
    "percentage = group_distribution.calc_percentage(\"BMI\")\n",
    "print(percentage)\n",
    "percentage = group_distribution.calc_percentage(\"Number of Children\")\n",
    "print(percentage)\n",
    "percentage = group_distribution.calc_percentage(\"Smoker\")\n",
    "print(percentage)\n",
    "percentage = group_distribution.calc_percentage(\"Region\")\n",
    "print(percentage)"
   ]
  },
  {
   "cell_type": "markdown",
   "metadata": {},
   "source": [
    "- Analyze where a majority of the individuals are from.\n",
    "The majority of the individuals come from the following groups:\n",
    "    - \"20 - 29 years old\"\n",
    "    - Male\n",
    "    - Obese\n",
    "    - No Childeren\n",
    "    - Non-Smoker\n",
    "    - From SouthEast"
   ]
  },
  {
   "cell_type": "markdown",
   "metadata": {},
   "source": [
    "## Calculating Average Values of Specific Groups That Satisfies the Set Condition"
   ]
  },
  {
   "cell_type": "code",
   "execution_count": 9,
   "metadata": {},
   "outputs": [
    {
     "name": "stdout",
     "output_type": "stream",
     "text": [
      "The average Age for those with Number Of Children greater than or equal to 1 is 39.78.\n",
      "The average Number Of Children for those with Age greater than or equal to 40 is 1.13.\n",
      "The average Insurance Cost for those with Bmi greater than or equal to 30 is 15552.34.\n"
     ]
    }
   ],
   "source": [
    "print(avg_value_group(\"age\", \"Number of Children\", 1))\n",
    "print(avg_value_group(\"Number of Children\", \"Age\", 40))\n",
    "print(avg_value_group(\"Insurance Cost\", \"BMI\", 30))"
   ]
  },
  {
   "cell_type": "markdown",
   "metadata": {},
   "source": [
    "The average age with those more than 1 child is  39.8 years.\n",
    "The average number of children for those who are older than 40 years is 1.13.\n",
    "The average insurace cost for those with BMI higher than 30 is $15552.34."
   ]
  }
 ],
 "metadata": {
  "kernelspec": {
   "display_name": "Python 3 (ipykernel)",
   "language": "python",
   "name": "python3"
  },
  "language_info": {
   "codemirror_mode": {
    "name": "ipython",
    "version": 3
   },
   "file_extension": ".py",
   "mimetype": "text/x-python",
   "name": "python",
   "nbconvert_exporter": "python",
   "pygments_lexer": "ipython3",
   "version": "3.9.7"
  }
 },
 "nbformat": 4,
 "nbformat_minor": 4
}
